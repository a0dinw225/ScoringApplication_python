{
 "cells": [
  {
   "cell_type": "code",
   "execution_count": 1,
   "id": "9d9cde9a-9da5-4824-a52a-a301c304738f",
   "metadata": {},
   "outputs": [
    {
     "name": "stdout",
     "output_type": "stream",
     "text": [
      "['×', '○', '○', '○', '○', '○', '○', '×', '×', '○', '○', '○', '○', '○', '○', '○', '○', '○', '○', '○', '○']\n",
      "['×', '○', '○', '○', '○', '○', '○', '○', '○', '○', '○', '○', '○', '○', '○', '○', '○', '○', '○', '○', '○']\n",
      "['×', '○', '○', '○', '×', '○', '○', '×', '×', '○', '○', '○', '○', '○', '○', '○', '○', '○', '○', '○', '○']\n",
      "['×', '○', '○', '○', '×', '○', '○', '○', '○', '○', '○', '○', '○', '○', '○', '○', '○', '○', '○', '○', '○']\n",
      "['○', '○', '○', '○', '○', '○', '○', '○', '○', '○', '○', '○', '○', '○', '○', '○', '○', '○', '○', '○', '○']\n",
      "['×', '×', '×', '×', '×', '○', '○', '○', '○', '○', '×', '○', '○', '○', '○', '○', '○', '○', '○', '○', '○']\n",
      "['○', '○', '○', '○', '×', '○', '○', '○', '○', '○', '○', '○', '○', '○', '○', '○', '○', '○', '○', '○', '○']\n",
      "['×', '×', '×', '×', '×', '×', '×', '×', '×', '×', '×', '○', '×', '○', '○', '○', '○', '○', '○', '○', '○']\n",
      "['○', '○', '○', '×', '×', '×', '○', '×', '×', '○', '○', '○', '○', '○', '○', '○', '○', '○', '○', '○', '○']\n",
      "[86, 96, 82, 92, 100, 75, 96, 45, 77]\n"
     ]
    }
   ],
   "source": [
    "import pandas as pd\n",
    "\n",
    "# 模範解答ファイル読み込み リストに格納\n",
    "read_modelpath_csv = pd.read_csv('20191118-model.csv', header=None).values.tolist()\n",
    "# read_modelpath_csv\n",
    "\n",
    "# 模範解答　　答えのリスト\n",
    "modelanswer_list = []\n",
    "for answer in read_modelpath_csv:\n",
    "    modelanswer_list.append(answer[1])\n",
    "\n",
    "# 学生解答ファイル読み込み\n",
    "df_student = pd.read_csv('20191118_v2.csv', header = None)\n",
    "# 最初の不要な行を削除\n",
    "df_student = df_student.drop(0)\n",
    "# 答えのみ\n",
    "df_student_Delete = df_student.drop(0, axis=1)\n",
    "df_student_Delete = df_student_Delete.drop(1, axis=1)\n",
    "df_student_Delete = df_student_Delete.drop(len(df_student.columns)-1, axis=1).values.tolist()\n",
    "\n",
    "# 〜採点〜 \n",
    "\n",
    "# 配点リストの初期化\n",
    "points_List = []\n",
    "for point in read_modelpath_csv:\n",
    "    points_List.append(point[2])\n",
    "\n",
    "# ○×リストの初期化\n",
    "scoring_List = []\n",
    "# 合計点数リストの初期化\n",
    "total_score_List = []\n",
    "# 学生の数繰り返す(今回は9人)\n",
    "for i in range(len(df_student)):\n",
    "    result_list = []\n",
    "    sum=0\n",
    "    # 問題数繰り返す(今回は21問)\n",
    "    for j in range(len(modelanswer_list)):\n",
    "        # 採点の比較\n",
    "        if modelanswer_list[j] == df_student_Delete[i][j]:\n",
    "            result_list.append('○')\n",
    "            sum+=points_List[j]\n",
    "        else:\n",
    "            result_list.append('×')\n",
    "        # 一人の学生の採点結果リストをscoring_Listに追加\n",
    "    scoring_List.append(result_list)\n",
    "    total_score_List.append(sum)\n",
    "# リスト中身を確認\n",
    "for result_list in scoring_List:\n",
    "    print(result_list)\n",
    "print(total_score_List)"
   ]
  },
  {
   "cell_type": "code",
   "execution_count": 2,
   "id": "7c7c979e-0fd7-4332-8e13-3cc56dcfe76c",
   "metadata": {},
   "outputs": [
    {
     "name": "stdout",
     "output_type": "stream",
     "text": [
      "['17AJ021', '17AJ030', '17AJ123', '17AJ601', '17AJ091', '17AJ082', '17AJ092', '17AJ006', '17AJ113']\n"
     ]
    }
   ],
   "source": [
    "# 学籍番号をリストに格納\n",
    "\n",
    "df_student_id = df_student[1].values.tolist()\n",
    "df_student_id\n",
    "\n",
    "# 学籍番号 AJに変換\n",
    "\n",
    "student_id_List = []\n",
    "for i in range(len(df_student)):\n",
    "    df_student_id[i] = df_student_id[i].replace(\"'\", \"\")\n",
    "    # 1文字ずつ分割してリストに格納\n",
    "    arr = list(df_student_id[i])\n",
    "    if arr[2] == '0':\n",
    "        arr[2] = 'A'\n",
    "    if arr[3] == '2':\n",
    "        arr[3] = 'J'\n",
    "    #リストの要素を繋げてstr型に変換\n",
    "    joinArr = \"\".join(arr)\n",
    "    student_id_List.append(joinArr)\n",
    "    \n",
    "print(student_id_List)"
   ]
  },
  {
   "cell_type": "code",
   "execution_count": 3,
   "id": "769f3491-26fc-43b9-a3bb-fb285cbaacba",
   "metadata": {},
   "outputs": [
    {
     "data": {
      "text/plain": [
       "['学籍番号',\n",
       " '点数',\n",
       " 'ディレクトリ',\n",
       " 'Q1',\n",
       " 'Q2',\n",
       " 'Q3',\n",
       " 'Q4',\n",
       " 'Q5',\n",
       " 'Q6',\n",
       " 'Q7',\n",
       " 'Q8',\n",
       " 'Q9',\n",
       " 'Q10',\n",
       " 'Q11',\n",
       " 'Q12',\n",
       " 'Q13',\n",
       " 'Q14',\n",
       " 'Q15',\n",
       " 'Q16',\n",
       " 'Q17',\n",
       " 'Q18',\n",
       " 'Q19',\n",
       " 'Q20',\n",
       " 'Q21']"
      ]
     },
     "execution_count": 3,
     "metadata": {},
     "output_type": "execute_result"
    }
   ],
   "source": [
    "# 項目名リスト\n",
    "item_List = ['学籍番号', '点数', 'ディレクトリ']\n",
    "\n",
    "for i in range(len(modelanswer_list)):\n",
    "    problem_number = 'Q' + str(i + 1)\n",
    "    item_List.append(problem_number)\n",
    "item_List"
   ]
  },
  {
   "cell_type": "code",
   "execution_count": 4,
   "id": "74c7aa53-e502-4038-b181-89f50854af6c",
   "metadata": {},
   "outputs": [
    {
     "name": "stdout",
     "output_type": "stream",
     "text": [
      "['F:\\\\20191118191020\\\\20191118191020-0002.jpg', 'F:\\\\20191118191020\\\\20191118191020-0003.jpg', 'F:\\\\20191118191020\\\\20191118191020-0004.jpg', 'F:\\\\20191118191020\\\\20191118191020-0005.jpg', 'F:\\\\20191118191020\\\\20191118191020-0006.jpg', 'F:\\\\20191118191020\\\\20191118191020-0007.jpg', 'F:\\\\20191118191020\\\\20191118191020-0008.jpg', 'F:\\\\20191118191020\\\\20191118191020-0009.jpg', 'F:\\\\20191118191020\\\\20191118191020-0010.jpg']\n"
     ]
    }
   ],
   "source": [
    "# マークシート画像ディレクトリパス\n",
    "\n",
    "directoryPath_List = []\n",
    "directoryPath_columns = df_student[len(df_student.columns) - 1]\n",
    "\n",
    "for path in directoryPath_columns:\n",
    "    directoryPath_List.append(path)\n",
    "print(directoryPath_List)"
   ]
  },
  {
   "cell_type": "code",
   "execution_count": 5,
   "id": "b38cd708-b825-44aa-94bc-befe01c826bd",
   "metadata": {},
   "outputs": [],
   "source": [
    "#学籍番号、 採点結果、 ディレクトリパスを結合\n",
    "result = []\n",
    "student_id_List_copy = student_id_List\n",
    "for i in range(len(df_student)):\n",
    "    \n",
    "    scoring_List[i].insert(0, student_id_List[i])\n",
    "    scoring_List[i].insert(1, total_score_List[i])\n",
    "    scoring_List[i].insert(2, directoryPath_List[i])\n",
    "    \n",
    "#1行目に項目を挿入\n",
    "scoring_List.insert(0, item_List)\n",
    "\n",
    "# csvに書き出し\n",
    "df = pd.DataFrame(scoring_List)\n",
    "df.to_csv('採点結果.csv', encoding='utf_8_sig', header=False, index=False)"
   ]
  },
  {
   "cell_type": "code",
   "execution_count": null,
   "id": "ab90109d-05ae-4e8b-853a-1c0342d94177",
   "metadata": {},
   "outputs": [],
   "source": []
  }
 ],
 "metadata": {
  "kernelspec": {
   "display_name": "Python 3",
   "language": "python",
   "name": "python3"
  },
  "language_info": {
   "codemirror_mode": {
    "name": "ipython",
    "version": 3
   },
   "file_extension": ".py",
   "mimetype": "text/x-python",
   "name": "python",
   "nbconvert_exporter": "python",
   "pygments_lexer": "ipython3",
   "version": "3.8.8"
  }
 },
 "nbformat": 4,
 "nbformat_minor": 5
}
